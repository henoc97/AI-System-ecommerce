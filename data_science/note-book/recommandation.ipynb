{
 "cells": [
  {
   "cell_type": "code",
   "execution_count": 1,
   "metadata": {},
   "outputs": [
    {
     "name": "stderr",
     "output_type": "stream",
     "text": [
      "100%|██████████| 100/100 [00:00<00:00, 480998.17it/s]\n"
     ]
    }
   ],
   "source": [
    "from tqdm import tqdm\n",
    "\n",
    "# Utilisation dans une boucle\n",
    "for i in tqdm(range(100)):\n",
    "    pass\n"
   ]
  },
  {
   "cell_type": "markdown",
   "metadata": {},
   "source": [
    "### Embeddings pour le Catalogue de Produits"
   ]
  },
  {
   "cell_type": "code",
   "execution_count": 2,
   "metadata": {},
   "outputs": [
    {
     "name": "stdout",
     "output_type": "stream",
     "text": [
      "   id          name                                        description  \\\n",
      "0   1  Gaming Mouse        Wireless gaming mouse with ergonomic design   \n",
      "1   2        Laptop   High-performance gaming laptop with RGB lighting   \n",
      "2   3    Headphones  Noise-canceling over-ear headphones with high ...   \n",
      "3   4      Keyboard    Mechanical keyboard with customizable backlight   \n",
      "4   5       Monitor          Ultra HD 4K monitor with adjustable stand   \n",
      "\n",
      "                                           embedding  \n",
      "0  [[-0.24534485, -0.13033515, 0.16920622, 0.0787...  \n",
      "1  [[-0.35070655, -0.22071186, 0.3561776, 0.00902...  \n",
      "2  [[0.044147037, 0.084562525, 0.22871184, 0.1906...  \n",
      "3  [[-0.21754181, -0.13643745, 0.29902977, 0.1873...  \n",
      "4  [[0.02546438, -0.28171644, 0.581398, 0.1719977...  \n"
     ]
    }
   ],
   "source": [
    "from transformers import AutoTokenizer, AutoModel\n",
    "import pandas as pd\n",
    "\n",
    "# Charger le modèle Hugging Face\n",
    "model_name = \"distilbert-base-uncased\"\n",
    "tokenizer = AutoTokenizer.from_pretrained(model_name)\n",
    "model = AutoModel.from_pretrained(model_name)\n",
    "\n",
    "# Charger le catalogue de produits\n",
    "product_catalog = pd.read_csv(\"/mnt/c/Users/amavi/projects-studio/ecommerce/AI-System/data_science/csv_stock/product_catalog.csv\")\n",
    "\n",
    "# Fonction pour générer les embeddings\n",
    "def get_embedding(text):\n",
    "    inputs = tokenizer(text, return_tensors=\"pt\", padding=True, truncation=True)\n",
    "    outputs = model(**inputs)\n",
    "    return outputs.last_hidden_state.mean(dim=1).detach().numpy()\n",
    "\n",
    "# Générer les embeddings pour chaque produit\n",
    "product_catalog['embedding'] = product_catalog['description'].apply(get_embedding)\n",
    "print(product_catalog)\n",
    "# Sauvegarder les embeddings (optionnel)\n",
    "product_catalog.to_pickle(\"/mnt/c/Users/amavi/projects-studio/ecommerce/AI-System/data_science/csv_stock/product_catalog_embeddings.pkl\")\n"
   ]
  },
  {
   "cell_type": "markdown",
   "metadata": {},
   "source": [
    "### Chaîne LangChain pour les Recommandations"
   ]
  },
  {
   "cell_type": "code",
   "execution_count": 3,
   "metadata": {},
   "outputs": [],
   "source": [
    "import pandas as pd\n",
    "import numpy as np\n",
    "from sklearn.metrics.pairwise import cosine_similarity\n",
    "\n",
    "# Charger les données utilisateur-produit et le catalogue de produits\n",
    "interactions = pd.read_csv(\"/mnt/c/Users/amavi/projects-studio/ecommerce/AI-System/data_science/csv_stock/user_product_interactions.csv\")\n",
    "product_catalog = pd.read_pickle(\"/mnt/c/Users/amavi/projects-studio/ecommerce/AI-System/data_science/csv_stock/product_catalog_embeddings.pkl\")\n",
    "\n",
    "# Vérifier et convertir les embeddings produits en vecteurs 1D numpy\n",
    "def preprocess_embeddings(catalog):\n",
    "    \"\"\"\n",
    "    Prépare les embeddings pour s'assurer qu'ils sont tous au bon format.\n",
    "    \"\"\"\n",
    "    catalog[\"embedding\"] = catalog[\"embedding\"].apply(\n",
    "        lambda emb: np.array(emb).squeeze()  # Convertir en numpy et retirer les dimensions inutiles\n",
    "    )\n",
    "    return catalog\n",
    "\n",
    "# Prétraiter les embeddings du catalogue de produits\n",
    "product_catalog = preprocess_embeddings(product_catalog)\n",
    "\n",
    "# Fonction pour extraire les préférences utilisateur\n",
    "def extract_user_preferences(user_id: int):\n",
    "    \"\"\"\n",
    "    Extrait les préférences d'un utilisateur à partir de ses interactions.\n",
    "    \"\"\"\n",
    "    user_data = interactions[interactions['user_id'] == user_id]\n",
    "    if user_data.empty:\n",
    "        return None, f\"Aucune interaction trouvée pour l'utilisateur {user_id}.\"\n",
    "\n",
    "    # Identifier les produits préférés\n",
    "    preferred_products = product_catalog.loc[\n",
    "        product_catalog['id'].isin(user_data['product_id'])\n",
    "    ]\n",
    "    if preferred_products.empty:\n",
    "        return None, f\"Aucun produit correspondant trouvé pour l'utilisateur {user_id}.\"\n",
    "\n",
    "    # Calculer l'embedding moyen pour l'utilisateur\n",
    "    embeddings = np.array(preferred_products['embedding'].tolist())\n",
    "    user_embedding = np.mean(embeddings, axis=0)  # Moyenne des embeddings\n",
    "    return user_embedding, None\n",
    "\n",
    "# Fonction pour recommander des produits\n",
    "def recommend_products(user_embedding: np.ndarray):\n",
    "    \"\"\"\n",
    "    Recommande des produits similaires en fonction de l'embedding utilisateur.\n",
    "    \"\"\"\n",
    "    if user_embedding is None:\n",
    "        return [], \"Embedding utilisateur non défini.\"\n",
    "\n",
    "    # Assurer que `user_embedding` est 2D pour cosine_similarity\n",
    "    user_embedding = np.expand_dims(user_embedding, axis=0)\n",
    "\n",
    "    # Calculer la similarité cosinus pour chaque produit\n",
    "    def calculate_similarity(emb):\n",
    "        emb = np.expand_dims(emb, axis=0)  # Assurer que chaque embedding produit est 2D\n",
    "        return cosine_similarity(user_embedding, emb)[0][0]\n",
    "\n",
    "    product_catalog[\"similarity\"] = product_catalog[\"embedding\"].apply(calculate_similarity)\n",
    "\n",
    "    # Trier les produits par similarité\n",
    "    recommendations = product_catalog.sort_values(by=\"similarity\", ascending=False).head(5)\n",
    "\n",
    "    if recommendations.empty:\n",
    "        return [], \"Aucune recommandation trouvée.\"\n",
    "\n",
    "    return recommendations[['id', 'name', 'similarity']].to_dict(orient='records'), None\n"
   ]
  },
  {
   "cell_type": "markdown",
   "metadata": {},
   "source": [
    "### Pipeline de recommandations\n"
   ]
  },
  {
   "cell_type": "code",
   "execution_count": 4,
   "metadata": {},
   "outputs": [],
   "source": [
    "# Pipeline de recommandations\n",
    "def run_recommendation_pipeline(user_id: int):\n",
    "    \"\"\"\n",
    "    Exécute le pipeline de recommandations pour un utilisateur spécifique.\n",
    "    \"\"\"\n",
    "    # Étape 1 : Extraire les préférences utilisateur\n",
    "    user_embedding, error = extract_user_preferences(user_id)\n",
    "    if error:\n",
    "        return {\"error\": error}\n",
    "\n",
    "    # Étape 2 : Recommander des produits\n",
    "    recommendations, error = recommend_products(user_embedding)\n",
    "    if error:\n",
    "        return {\"error\": error}\n",
    "\n",
    "    return {\"recommendations\": recommendations}"
   ]
  },
  {
   "cell_type": "markdown",
   "metadata": {},
   "source": [
    "### Tester le pipeline\n"
   ]
  },
  {
   "cell_type": "code",
   "execution_count": 7,
   "metadata": {},
   "outputs": [
    {
     "name": "stdout",
     "output_type": "stream",
     "text": [
      "Recommandations pour l'utilisateur 2 :\n",
      "- Keyboard (similarité : 0.95)\n",
      "- Headphones (similarité : 0.95)\n",
      "- Laptop (similarité : 0.88)\n",
      "- Gaming Mouse (similarité : 0.87)\n",
      "- Monitor (similarité : 0.86)\n"
     ]
    }
   ],
   "source": [
    "# Tester le pipeline\n",
    "if __name__ == \"__main__\":\n",
    "    user_id_test = 2  # Remplace avec un ID utilisateur valide\n",
    "    result = run_recommendation_pipeline(user_id_test)\n",
    "\n",
    "    if \"error\" in result:\n",
    "        print(f\"Erreur : {result['error']}\")\n",
    "    else:\n",
    "        print(f\"Recommandations pour l'utilisateur {user_id_test} :\")\n",
    "        for rec in result[\"recommendations\"]:\n",
    "            print(f\"- {rec['name']} (similarité : {rec['similarity']:.2f})\")"
   ]
  }
 ],
 "metadata": {
  "kernelspec": {
   "display_name": "monenv",
   "language": "python",
   "name": "python3"
  },
  "language_info": {
   "codemirror_mode": {
    "name": "ipython",
    "version": 3
   },
   "file_extension": ".py",
   "mimetype": "text/x-python",
   "name": "python",
   "nbconvert_exporter": "python",
   "pygments_lexer": "ipython3",
   "version": "3.12.3"
  }
 },
 "nbformat": 4,
 "nbformat_minor": 2
}
